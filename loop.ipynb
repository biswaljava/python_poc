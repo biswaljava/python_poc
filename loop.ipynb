{
 "cells": [
  {
   "metadata": {},
   "cell_type": "code",
   "source": [
    " a = 10\n",
    "for i in range(1,8):\n",
    "    print(i)"
   ],
   "id": "1f43ef240a37b25f",
   "outputs": [],
   "execution_count": null
  },
  {
   "metadata": {},
   "cell_type": "code",
   "source": [
    "print(a)\n",
    "for i in \"python\":\n",
    "    print(i)"
   ],
   "id": "c4fa48967167c93e",
   "outputs": [],
   "execution_count": null
  },
  {
   "metadata": {},
   "cell_type": "code",
   "source": [
    "total = 1;\n",
    "for i in range(1,100):\n",
    "    total *= i\n",
    "print(total)"
   ],
   "id": "39589d1308df4be0",
   "outputs": [],
   "execution_count": null
  },
  {
   "metadata": {},
   "cell_type": "code",
   "source": [
    "    fruits = [\"apple\", \"banana\", \"cherry\"]\n",
    "    for fruit in fruits:\n",
    "      print(fruit)"
   ],
   "id": "a57cd4048c08e89c",
   "outputs": [],
   "execution_count": null
  },
  {
   "metadata": {},
   "cell_type": "code",
   "source": [
    " fruits = [\"apple\", \"banana\", \"cherry\"]\n",
    " for i in range(len(fruits)):\n",
    "    print(i,fruits[i])"
   ],
   "id": "d3326206fce4bded",
   "outputs": [],
   "execution_count": null
  },
  {
   "metadata": {},
   "cell_type": "code",
   "source": [
    "i = 0\n",
    "while i < len(fruits):\n",
    "    print(fruits[i])\n",
    "    i = i + 1\n",
    "print(i)"
   ],
   "id": "430a81ef57b5303d",
   "outputs": [],
   "execution_count": null
  },
  {
   "metadata": {},
   "cell_type": "code",
   "source": [
    "for i  in range(1,10):\n",
    "    if i == 5:\n",
    "        break;\n",
    "    print(i)\n"
   ],
   "id": "8aa08103dc6c6d29",
   "outputs": [],
   "execution_count": null
  },
  {
   "metadata": {
    "ExecuteTime": {
     "end_time": "2025-08-23T07:32:54.715494Z",
     "start_time": "2025-08-23T07:32:54.712635Z"
    }
   },
   "cell_type": "code",
   "source": [
    "for i  in range(1,10):\n",
    "    if i == 5:\n",
    "        continue;\n",
    "    print(i)\n"
   ],
   "id": "3760004df9d62e64",
   "outputs": [
    {
     "name": "stdout",
     "output_type": "stream",
     "text": [
      "1\n",
      "2\n",
      "3\n",
      "4\n",
      "6\n",
      "7\n",
      "8\n",
      "9\n"
     ]
    }
   ],
   "execution_count": 48
  }
 ],
 "metadata": {
  "kernelspec": {
   "name": "python3",
   "language": "python",
   "display_name": "Python 3 (ipykernel)"
  }
 },
 "nbformat": 4,
 "nbformat_minor": 5
}
