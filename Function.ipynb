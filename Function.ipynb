{
 "cells": [
  {
   "cell_type": "code",
   "id": "initial_id",
   "metadata": {
    "collapsed": true
   },
   "source": [
    "def fun(test):\n",
    "    print(test)\n",
    "\n",
    "\n",
    "print(fun(1))"
   ],
   "outputs": [],
   "execution_count": null
  },
  {
   "metadata": {},
   "cell_type": "code",
   "source": [
    "def m():\n",
    "    print(\"test\")\n",
    "m()"
   ],
   "id": "f5fef966a7c7065c",
   "outputs": [],
   "execution_count": null
  },
  {
   "metadata": {},
   "cell_type": "code",
   "source": [
    "def test(num):\n",
    "    if num % 3  == 0 and num % 7 == 0:\n",
    "        print(\"num is divisible by 3 and 7\")\n",
    "    elif num % 3  == 0:\n",
    "        print(\"num is divisible by 3\")\n",
    "    elif num % 7  == 0:\n",
    "        print(\"num is divisible by 7\")\n",
    "    else:\n",
    "        print(\"num is not divisible by 3 and 7\")\n",
    "\n",
    "test(21)\n",
    "test(9)\n",
    "test(14)\n",
    "test(6)\n",
    "test(8)"
   ],
   "id": "732b976ab73fb793",
   "outputs": [],
   "execution_count": null
  },
  {
   "metadata": {},
   "cell_type": "code",
   "source": [
    "def number_check(num):\n",
    "    if num == 0:\n",
    "        print(\"num is 0\")\n",
    "    elif num < 0 :\n",
    "        print(\"num is negative\")\n",
    "    else:\n",
    "        print(\"num is positive\")\n",
    "\n",
    "number_check(0)\n",
    "number_check(1)\n",
    "number_check(-1)"
   ],
   "id": "6d9d8d7a171474ac",
   "outputs": [],
   "execution_count": null
  },
  {
   "metadata": {},
   "cell_type": "code",
   "source": [
    "def vote_eligibility(age):\n",
    "    if age >= 18:\n",
    "        return 'YES'\n",
    "    else:\n",
    "        return 'NO'\n",
    "print(\"Are you eligible for vote: \",vote_eligibility(12))"
   ],
   "id": "e70c12c29d26d8ac",
   "outputs": [],
   "execution_count": null
  },
  {
   "metadata": {},
   "cell_type": "code",
   "source": [
    "test_tuple = (1,2,3,4,5,6,7,8,9)\n",
    "print(test_tuple)\n",
    "\n",
    "test_list =  list(test_tuple)\n",
    "print(test_list)\n",
    "\n",
    "test_list.append(10)\n",
    "print(test_list)\n",
    "\n",
    "test_list[0] = 10\n",
    "print(test_list)\n",
    "\n",
    "test_list = sorted(test_list)\n",
    "print(test_list)\n",
    "\n",
    "test_tuple = tuple(test_list)\n",
    "print(test_tuple)\n",
    "\n",
    "\n",
    "\n"
   ],
   "id": "58322a4d15733004",
   "outputs": [],
   "execution_count": null
  },
  {
   "metadata": {},
   "cell_type": "code",
   "source": [
    "test_list = [1,4,6,7,8,9]\n",
    "search_val = 11\n",
    "isFound = False\n",
    "for val in test_list:\n",
    "    if search_val == val:\n",
    "        print(\"found\")\n",
    "        isFound = True\n",
    "        break;\n",
    "\n",
    "if not isFound:\n",
    " print(\"Not found\")"
   ],
   "id": "9b2d79708663ed29",
   "outputs": [],
   "execution_count": null
  },
  {
   "metadata": {},
   "cell_type": "code",
   "source": [
    "for i in range(2,21):\n",
    "    if i % 2 == 0:\n",
    "        print(i)\n",
    "\n",
    "i = 2\n",
    "while i<21:\n",
    "  if i % 2 == 0:\n",
    "    print(i)\n",
    "  i += 1"
   ],
   "id": "39dec06981ca9083",
   "outputs": [],
   "execution_count": null
  },
  {
   "metadata": {},
   "cell_type": "code",
   "source": "",
   "id": "dd3b09fb7de3339",
   "outputs": [],
   "execution_count": null
  },
  {
   "metadata": {},
   "cell_type": "code",
   "source": "",
   "id": "7a3e0145df8b5491",
   "outputs": [],
   "execution_count": null
  },
  {
   "metadata": {},
   "cell_type": "code",
   "source": "",
   "id": "4733cfa25e924464",
   "outputs": [],
   "execution_count": null
  }
 ],
 "metadata": {
  "kernelspec": {
   "display_name": "Python 3",
   "language": "python",
   "name": "python3"
  },
  "language_info": {
   "codemirror_mode": {
    "name": "ipython",
    "version": 2
   },
   "file_extension": ".py",
   "mimetype": "text/x-python",
   "name": "python",
   "nbconvert_exporter": "python",
   "pygments_lexer": "ipython2",
   "version": "2.7.6"
  }
 },
 "nbformat": 4,
 "nbformat_minor": 5
}
